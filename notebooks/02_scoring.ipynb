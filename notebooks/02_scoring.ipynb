{
  "nbformat": 4,
  "nbformat_minor": 0,
  "metadata": {
    "colab": {
      "provenance": [],
      "authorship_tag": "ABX9TyO3O7s2UTAWPZ9/ncROdOM3",
      "include_colab_link": true
    },
    "kernelspec": {
      "name": "python3",
      "display_name": "Python 3"
    },
    "language_info": {
      "name": "python"
    }
  },
  "cells": [
    {
      "cell_type": "markdown",
      "metadata": {
        "id": "view-in-github",
        "colab_type": "text"
      },
      "source": [
        "<a href=\"https://colab.research.google.com/github/KIMNAMHYEON-Kpass/love-letter-lab/blob/main/notebooks/02_scoring.ipynb\" target=\"_parent\"><img src=\"https://colab.research.google.com/assets/colab-badge.svg\" alt=\"Open In Colab\"/></a>"
      ]
    },
    {
      "cell_type": "markdown",
      "source": [
        "# 설치/임포트/경로 준비"
      ],
      "metadata": {
        "id": "HVM-JFJAFDIh"
      }
    },
    {
      "cell_type": "code",
      "execution_count": null,
      "metadata": {
        "id": "bJvDdpmLFAhQ"
      },
      "outputs": [],
      "source": [
        "# (필요시) 경량 설치\n",
        "!pip install -q numpy pandas\n",
        "\n",
        "import math, json, re\n",
        "from pathlib import Path\n",
        "import numpy as np\n",
        "import pandas as pd\n",
        "\n",
        "DATA_DIR = Path(\"data\")\n",
        "CONFIG_DIR = Path(\"config\")\n",
        "DATA_DIR.mkdir(parents=True, exist_ok=True)\n",
        "CONFIG_DIR.mkdir(parents=True, exist_ok=True)\n",
        "\n",
        "print({\"data_dir\": str(DATA_DIR), \"config_dir\": str(CONFIG_DIR)})\n"
      ]
    },
    {
      "cell_type": "markdown",
      "source": [
        "# 퍼스널리티 프리셋/규칙 로딩(없으면 기본 생성)"
      ],
      "metadata": {
        "id": "Er4T9lJGFHph"
      }
    },
    {
      "cell_type": "code",
      "source": [
        "# 기본 프리셋\n",
        "default_presets = {\n",
        "    \"정중·낭만\": {\n",
        "        \"humor\":0.2, \"directness\":0.3, \"formality\":0.9,\n",
        "        \"emotion_intensity\":0.7, \"metaphor\":0.8, \"sincerity\":0.9\n",
        "    },\n",
        "    \"직설·건조\": {\n",
        "        \"humor\":0.1, \"directness\":0.9, \"formality\":0.6,\n",
        "        \"emotion_intensity\":0.3, \"metaphor\":0.2, \"sincerity\":0.7\n",
        "    },\n",
        "    \"재치·가벼움\": {\n",
        "        \"humor\":0.8, \"directness\":0.5, \"formality\":0.4,\n",
        "        \"emotion_intensity\":0.6, \"metaphor\":0.6, \"sincerity\":0.5\n",
        "    }\n",
        "}\n",
        "\n",
        "# 기본 규칙(금칙/긍·부정 어휘/비유·유머 키워드)\n",
        "rules = {\n",
        "    \"profanity\": [\"씨발\",\"좆\",\"병신\",\"꺼져\",\"등신\",\"죽어\",\"지랄\",\"sex\",\"섹스\",\"야한\",\"폭력\",\"협박\"],\n",
        "    \"positive\": [\"좋\",\"고맙\",\"따뜻\",\"응원\",\"함께\",\"설렘\",\"안심\",\"행복\",\"사랑\",\"배려\",\"고마움\",\"기쁨\"],\n",
        "    \"negative\": [\"미안\",\"불안\",\"걱정\",\"슬픔\",\"후회\",\"외로움\",\"싫\",\"두려움\",\"불편\",\"짜증\"],\n",
        "    \"metaphor\": [\"별\",\"달\",\"계절\",\"바람\",\"파도\",\"편지\",\"햇살\",\"꽃\"],\n",
        "    \"humor\": [\"농담\",\"웃음\",\"장난\",\"살짝\",\"가볍게\"]\n",
        "}\n",
        "\n",
        "# 파일로부터 로딩 시도(없으면 기본 저장)\n",
        "ppath = CONFIG_DIR/\"personality_presets.json\"\n",
        "rpath = CONFIG_DIR/\"reason_rules.json\"\n",
        "\n",
        "if ppath.exists():\n",
        "    personality_presets = json.loads(ppath.read_text(encoding=\"utf-8\"))\n",
        "else:\n",
        "    ppath.write_text(json.dumps(default_presets, ensure_ascii=False, indent=2), encoding=\"utf-8\")\n",
        "    personality_presets = default_presets\n",
        "\n",
        "if rpath.exists():\n",
        "    reason_rules = json.loads(rpath.read_text(encoding=\"utf-8\"))\n",
        "else:\n",
        "    rpath.write_text(json.dumps(rules, ensure_ascii=False, indent=2), encoding=\"utf-8\")\n",
        "    reason_rules = rules\n",
        "\n",
        "print({\"presets\": list(personality_presets.keys()), \"rules_loaded\": True})\n"
      ],
      "metadata": {
        "id": "CV7BRafGFLNO"
      },
      "execution_count": null,
      "outputs": []
    },
    {
      "cell_type": "markdown",
      "source": [
        "# 기본 점수화 함수들"
      ],
      "metadata": {
        "id": "WmnkvafyFMxR"
      }
    },
    {
      "cell_type": "code",
      "source": [
        "def sigmoid(x: float) -> float:\n",
        "    return 1.0 / (1.0 + math.exp(-x))\n",
        "\n",
        "def count_hits(text: str, keywords):\n",
        "    return sum(1 for w in keywords if w in text)\n",
        "\n",
        "def is_respectful_korean(text: str) -> float:\n",
        "    # 존댓말 비율 근사치: '요', '습니다' 빈도 기반\n",
        "    toks = re.split(r\"\\s+\", text)\n",
        "    if not toks:\n",
        "        return 0.0\n",
        "    hits = sum(1 for t in toks if (\"요\" in t or \"습니다\" in t))\n",
        "    return hits / max(1, len(toks))\n",
        "\n",
        "def repetition_penalty(text: str, n: int = 3) -> float:\n",
        "    # 간단 n-gram 반복률 측정(근사)\n",
        "    words = re.findall(r\"\\w+|[가-힣]+\", text)\n",
        "    if len(words) < n:\n",
        "        return 0.0\n",
        "    grams = [\" \".join(words[i:i+n]) for i in range(len(words)-n+1)]\n",
        "    total = len(grams)\n",
        "    unique = len(set(grams))\n",
        "    dup_ratio = 1 - unique/max(1,total)\n",
        "    return dup_ratio  # 0~1, 높을수록 반복 많음\n"
      ],
      "metadata": {
        "id": "TvJN8cY7FPtG"
      },
      "execution_count": null,
      "outputs": []
    },
    {
      "cell_type": "markdown",
      "source": [
        "# 호감도 점수 산출 로직"
      ],
      "metadata": {
        "id": "eQOw_GWyFRaE"
      }
    },
    {
      "cell_type": "code",
      "source": [
        "def base_sentiment_score(text: str, rule_dict: dict) -> (float, list):\n",
        "    pos_c = count_hits(text, rule_dict[\"positive\"])\n",
        "    neg_c = count_hits(text, rule_dict[\"negative\"])\n",
        "    prof_c = count_hits(text, rule_dict[\"profanity\"])\n",
        "\n",
        "    # 기본 감정 합산\n",
        "    raw = pos_c*0.6 - neg_c*0.6 - prof_c*2.0\n",
        "\n",
        "    # 존댓말/느낌표/반복 등 가벼운 보정\n",
        "    form_ratio = is_respectful_korean(text)\n",
        "    raw += (form_ratio - 0.5) * 0.6  # 존댓말 비율이 0.5보다 높으면 가점\n",
        "\n",
        "    exclaims = text.count(\"!\")\n",
        "    if exclaims > 1:\n",
        "        raw -= 0.2*(exclaims-1)\n",
        "\n",
        "    dup = repetition_penalty(text, n=3)\n",
        "    if dup > 0.15:\n",
        "        raw -= 0.3\n",
        "\n",
        "    reasons = [\n",
        "        {\"rule\":\"positive_words\",\"count\":pos_c,\"weight\":0.6},\n",
        "        {\"rule\":\"negative_words\",\"count\":neg_c,\"weight\":-0.6},\n",
        "        {\"rule\":\"profanity\",\"count\":prof_c,\"weight\":-2.0},\n",
        "        {\"rule\":\"formality_ratio\",\"value\":round(form_ratio,2),\"weight\":0.6},\n",
        "        {\"rule\":\"exclaim_count\",\"value\":exclaims,\"penalty_per_extra\":-0.2},\n",
        "        {\"rule\":\"repetition_3gram\",\"value\":round(dup,2),\"threshold\":0.15,\"penalty\":-0.3},\n",
        "    ]\n",
        "    return raw, reasons\n",
        "\n",
        "def personality_bonus(text: str, persona: dict, rule_dict: dict) -> (float, list):\n",
        "    bonus = 0.0\n",
        "    logs = []\n",
        "\n",
        "    # 형식 일치\n",
        "    form_ratio = is_respectful_korean(text)\n",
        "    if persona.get(\"formality\",0) > 0.7 and form_ratio > 0.8:\n",
        "        bonus += 0.3\n",
        "        logs.append({\"rule\":\"formality_match\",\"delta\":0.3})\n",
        "\n",
        "    # 직설성: 의사 표현 키워드 간단 체크\n",
        "    direct_markers = [\"말해볼게요\",\"전하고 싶\",\"원합니다\",\"허락\",\"바랍니다\",\"고백\"]\n",
        "    if persona.get(\"directness\",0) > 0.7 and any(m in text for m in direct_markers):\n",
        "        bonus += 0.2\n",
        "        logs.append({\"rule\":\"directness_match\",\"delta\":0.2})\n",
        "\n",
        "    # 비유 선호\n",
        "    if persona.get(\"metaphor\",0) > 0.6 and count_hits(text, rule_dict[\"metaphor\"]) >= 1:\n",
        "        bonus += 0.2\n",
        "        logs.append({\"rule\":\"metaphor_hit\",\"delta\":0.2})\n",
        "\n",
        "    # 유머 선호\n",
        "    if persona.get(\"humor\",0) > 0.6 and count_hits(text, rule_dict[\"humor\"]) >= 1:\n",
        "        bonus += 0.2\n",
        "        logs.append({\"rule\":\"humor_hit\",\"delta\":0.2})\n",
        "\n",
        "    # 진정성: 과장어휘 과다 시 페널티(진정성 높을수록 과장 싫어함)\n",
        "    over_claims = [\"최고\",\"영원\",\"완벽\",\"운명\",\"세상에 하나\"]\n",
        "    if persona.get(\"sincerity\",0) > 0.7 and sum(1 for w in over_claims if w in text) >= 2:\n",
        "        bonus -= 0.2\n",
        "        logs.append({\"rule\":\"overclaim_penalty\",\"delta\":-0.2})\n",
        "\n",
        "    return bonus, logs\n",
        "\n",
        "def affinity_score(text: str, persona_name: str) -> dict:\n",
        "    persona = personality_presets.get(persona_name, list(personality_presets.values())[0])\n",
        "    base_raw, base_logs = base_sentiment_score(text, reason_rules)\n",
        "    p_bonus, p_logs = personality_bonus(text, persona, reason_rules)\n",
        "\n",
        "    raw = base_raw + p_bonus\n",
        "    score = sigmoid(raw)  # 0~1\n",
        "    reasons = base_logs + p_logs + [{\"rule\":\"total_raw\",\"value\":round(raw,3)}]\n",
        "    return {\n",
        "        \"score_0_1\": round(float(score), 4),\n",
        "        \"raw\": round(float(raw), 3),\n",
        "        \"persona\": {\"name\": persona_name, \"vector\": persona},\n",
        "        \"reasons\": reasons\n",
        "    }\n"
      ],
      "metadata": {
        "id": "cR3Y1u8OFTyc"
      },
      "execution_count": null,
      "outputs": []
    },
    {
      "cell_type": "markdown",
      "source": [
        "# 샘플 입력과 실행"
      ],
      "metadata": {
        "id": "5zqqqGxSFXqd"
      }
    },
    {
      "cell_type": "code",
      "source": [
        "samples = [\n",
        "    {\n",
        "        \"text\": \"민수님, 발표를 앞두고 긴장하셨겠지만 저는 곁에서 조용히 응원하고 싶습니다. 동기로 지내며 알게 된 고마움이 커졌습니다. 조심스럽지만 제 마음을 말해볼게요.\",\n",
        "        \"persona\":\"정중·낭만\"\n",
        "    },\n",
        "    {\n",
        "        \"text\": \"민수님, 너무 과장하진 않을게요. 그냥 같이 커피 한 잔 하면서 가볍게 이야기 나눌 수 있을까요?\",\n",
        "        \"persona\":\"재치·가벼움\"\n",
        "    },\n",
        "    {\n",
        "        \"text\": \"민수님, 솔직하게 말할게요. 저는 더 가까워지고 싶습니다. 부담되지 않는 선에서 시간을 허락해 주실 수 있을까요!\",\n",
        "        \"persona\":\"직설·건조\"\n",
        "    }\n",
        "]\n",
        "\n",
        "rows = []\n",
        "for s in samples:\n",
        "    out = affinity_score(s[\"text\"], s[\"persona\"])\n",
        "    rows.append({\n",
        "        \"persona\": s[\"persona\"],\n",
        "        \"score\": out[\"score_0_1\"],\n",
        "        \"raw\": out[\"raw\"],\n",
        "        \"text\": s[\"text\"][:60] + (\"...\" if len(s[\"text\"])>60 else \"\")\n",
        "    })\n",
        "\n",
        "df = pd.DataFrame(rows).sort_values(\"score\", ascending=False)\n",
        "df\n"
      ],
      "metadata": {
        "id": "-fxYnx6KFZxV"
      },
      "execution_count": null,
      "outputs": []
    },
    {
      "cell_type": "markdown",
      "source": [
        "# 단일 입력용 유틸(노트북에서 바로 써보기)"
      ],
      "metadata": {
        "id": "fXdGRPPhFcvn"
      }
    },
    {
      "cell_type": "code",
      "source": [
        "def score_one(text: str, persona_name: str = \"정중·낭만\", verbose: bool = True):\n",
        "    out = affinity_score(text, persona_name)\n",
        "    if verbose:\n",
        "        print(f\"[persona] {persona_name}\")\n",
        "        print(f\"[score] {out['score_0_1']} (raw={out['raw']})\")\n",
        "        print(\"[reasons]\")\n",
        "        for r in out[\"reasons\"]:\n",
        "            print(\" -\", r)\n",
        "    return out\n",
        "\n",
        "# 예시 실행\n",
        "_ = score_one(\"민수님, 떨리는 마음이지만 진심으로 더 자주 함께 걷고 싶습니다.\", \"정중·낭만\")\n"
      ],
      "metadata": {
        "id": "MI8vc-Q7Fd4f"
      },
      "execution_count": null,
      "outputs": []
    },
    {
      "cell_type": "markdown",
      "source": [
        "# 결과 저장(샘플/캐시)"
      ],
      "metadata": {
        "id": "cBX1Nb5DFhaP"
      }
    },
    {
      "cell_type": "code",
      "source": [
        "cache = {\n",
        "    \"samples\": samples,\n",
        "    \"results\": [affinity_score(s[\"text\"], s[\"persona\"]) for s in samples]\n",
        "}\n",
        "(DATA_DIR/\"scoring_cache.json\").write_text(json.dumps(cache, ensure_ascii=False, indent=2), encoding=\"utf-8\")\n",
        "print(\"saved:\", str(DATA_DIR/\"scoring_cache.json\"))\n"
      ],
      "metadata": {
        "id": "gNPuVzJDFfay"
      },
      "execution_count": null,
      "outputs": []
    },
    {
      "cell_type": "markdown",
      "source": [
        "# 검증 셀(노트북 품질 체크)"
      ],
      "metadata": {
        "id": "gX6cuE9uFkTX"
      }
    },
    {
      "cell_type": "code",
      "source": [
        "# 간단 품질 기준: 0<=score<=1, reasons>=2, profanity=0\n",
        "def profanity_hits(text: str) -> int:\n",
        "    return count_hits(text, reason_rules[\"profanity\"])\n",
        "\n",
        "ok_range = all(0.0 <= affinity_score(s[\"text\"], s[\"persona\"])[\"score_0_1\"] <= 1.0 for s in samples)\n",
        "ok_reasons = all(len(affinity_score(s[\"text\"], s[\"persona\"])[\"reasons\"]) >= 2 for s in samples)\n",
        "ok_prof = all(profanity_hits(s[\"text\"]) == 0 for s in samples)\n",
        "\n",
        "print({\"score_range_ok\": ok_range, \"reasons_len_ok\": ok_reasons, \"no_profanity\": ok_prof})\n"
      ],
      "metadata": {
        "id": "LKSLdKNIFmuQ"
      },
      "execution_count": null,
      "outputs": []
    }
  ]
}